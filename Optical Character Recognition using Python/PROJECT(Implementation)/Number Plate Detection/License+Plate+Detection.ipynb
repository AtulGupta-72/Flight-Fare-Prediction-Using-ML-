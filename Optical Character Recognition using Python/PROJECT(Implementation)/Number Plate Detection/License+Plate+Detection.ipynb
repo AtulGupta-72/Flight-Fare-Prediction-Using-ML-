{
 "cells": [
  {
   "cell_type": "code",
   "execution_count": 1,
   "id": "diagnostic-cement",
   "metadata": {},
   "outputs": [],
   "source": [
    "import cv2\n",
    "import imutils\n",
    "import pytesseract"
   ]
  },
  {
   "cell_type": "code",
   "execution_count": 2,
   "id": "hispanic-evolution",
   "metadata": {},
   "outputs": [],
   "source": [
    "image = cv2.imread(\"test3.png\")"
   ]
  },
  {
   "cell_type": "code",
   "execution_count": 3,
   "id": "southeast-steps",
   "metadata": {},
   "outputs": [
    {
     "data": {
      "text/plain": [
       "-1"
      ]
     },
     "execution_count": 3,
     "metadata": {},
     "output_type": "execute_result"
    }
   ],
   "source": [
    "image = imutils.resize(image,width=300)\n",
    "cv2.imshow(\"Orignal image\",image)\n",
    "cv2.waitKey(0)"
   ]
  },
  {
   "cell_type": "code",
   "execution_count": 4,
   "id": "republican-positive",
   "metadata": {},
   "outputs": [
    {
     "data": {
      "text/plain": [
       "-1"
      ]
     },
     "execution_count": 4,
     "metadata": {},
     "output_type": "execute_result"
    }
   ],
   "source": [
    "gray_image = cv2.cvtColor(image,cv2.COLOR_BGR2GRAY)\n",
    "cv2.imshow(\"greyed image\",gray_image)\n",
    "cv2.waitKey(0)"
   ]
  },
  {
   "cell_type": "code",
   "execution_count": 5,
   "id": "senior-construction",
   "metadata": {},
   "outputs": [
    {
     "data": {
      "text/plain": [
       "-1"
      ]
     },
     "execution_count": 5,
     "metadata": {},
     "output_type": "execute_result"
    }
   ],
   "source": [
    "gray_image = cv2.bilateralFilter(gray_image,11,17,17)\n",
    "cv2.imshow(\"smoothened image\",gray_image)\n",
    "cv2.waitKey(0)"
   ]
  },
  {
   "cell_type": "code",
   "execution_count": 6,
   "id": "cathedral-slovak",
   "metadata": {},
   "outputs": [
    {
     "data": {
      "text/plain": [
       "-1"
      ]
     },
     "execution_count": 6,
     "metadata": {},
     "output_type": "execute_result"
    }
   ],
   "source": [
    "edged = cv2.Canny(gray_image,30,200)\n",
    "cv2.imshow(\"edged image\",edged)\n",
    "cv2.waitKey(0)"
   ]
  },
  {
   "cell_type": "code",
   "execution_count": 7,
   "id": "descending-maine",
   "metadata": {},
   "outputs": [],
   "source": [
    "cnts, new = cv2.findContours(edged.copy(),cv2.RETR_LIST,cv2.CHAIN_APPROX_SIMPLE)"
   ]
  },
  {
   "cell_type": "code",
   "execution_count": 8,
   "id": "formal-montgomery",
   "metadata": {},
   "outputs": [
    {
     "data": {
      "text/plain": [
       "array([[[ 34,  54,  77],\n",
       "        [ 31,  52,  75],\n",
       "        [ 32,  52,  77],\n",
       "        ...,\n",
       "        [110, 118, 108],\n",
       "        [147, 153, 139],\n",
       "        [171, 175, 160]],\n",
       "\n",
       "       [[ 28,  51,  69],\n",
       "        [ 26,  49,  69],\n",
       "        [  0, 255,   0],\n",
       "        ...,\n",
       "        [ 95, 103, 102],\n",
       "        [102, 112, 105],\n",
       "        [129, 138, 127]],\n",
       "\n",
       "       [[ 32,  54,  73],\n",
       "        [  0, 255,   0],\n",
       "        [  0, 255,   0],\n",
       "        ...,\n",
       "        [103, 104, 109],\n",
       "        [ 99, 101, 105],\n",
       "        [ 80,  84,  83]],\n",
       "\n",
       "       ...,\n",
       "\n",
       "       [[ 42,  56,  55],\n",
       "        [ 42,  56,  55],\n",
       "        [ 42,  56,  55],\n",
       "        ...,\n",
       "        [ 36,  41,  44],\n",
       "        [ 36,  41,  44],\n",
       "        [ 36,  41,  44]],\n",
       "\n",
       "       [[ 42,  56,  55],\n",
       "        [ 42,  56,  55],\n",
       "        [ 42,  56,  55],\n",
       "        ...,\n",
       "        [ 35,  40,  43],\n",
       "        [ 36,  41,  44],\n",
       "        [ 36,  41,  44]],\n",
       "\n",
       "       [[ 42,  56,  54],\n",
       "        [ 44,  57,  54],\n",
       "        [ 43,  56,  54],\n",
       "        ...,\n",
       "        [ 36,  41,  44],\n",
       "        [ 36,  41,  44],\n",
       "        [ 36,  41,  44]]], dtype=uint8)"
      ]
     },
     "execution_count": 8,
     "metadata": {},
     "output_type": "execute_result"
    }
   ],
   "source": [
    "image1 = image.copy()\n",
    "cv2.drawContours(image1,cnts,-1,(0,255,0),3)"
   ]
  },
  {
   "cell_type": "code",
   "execution_count": 9,
   "id": "quiet-sculpture",
   "metadata": {},
   "outputs": [
    {
     "data": {
      "text/plain": [
       "-1"
      ]
     },
     "execution_count": 9,
     "metadata": {},
     "output_type": "execute_result"
    }
   ],
   "source": [
    "cv2.imshow(\"contours\",image1)\n",
    "cv2.waitKey(0)"
   ]
  },
  {
   "cell_type": "code",
   "execution_count": 10,
   "id": "amateur-scott",
   "metadata": {},
   "outputs": [
    {
     "data": {
      "text/plain": [
       "-1"
      ]
     },
     "execution_count": 10,
     "metadata": {},
     "output_type": "execute_result"
    }
   ],
   "source": [
    "cnts = sorted(cnts, key = cv2.contourArea, reverse = True) [:30]\n",
    "screenCnt = None\n",
    "image2 = image.copy()\n",
    "cv2.drawContours(image2,cnts,-1,(0,255,0),3)\n",
    "cv2.imshow(\"Top 30 contours\",image2)\n",
    "cv2.waitKey(0)"
   ]
  },
  {
   "cell_type": "code",
   "execution_count": 12,
   "id": "native-champion",
   "metadata": {},
   "outputs": [],
   "source": [
    "i = 7\n",
    "for c in cnts:\n",
    "    perimeter = cv2.arcLength(c,True)\n",
    "    approx = cv2.approxPolyDP(c,0.018 * perimeter, True)\n",
    "    if len(approx) == 4:\n",
    "        screenCnt = approx\n",
    "        x,y,w,h = cv2.boundingRect(c)\n",
    "        new_img = image[y:y+h,x:x+w]\n",
    "        cv2.imwrite('./'+str(i)+'.png',new_img)\n",
    "        i+=1\n",
    "        break"
   ]
  },
  {
   "cell_type": "code",
   "execution_count": 13,
   "id": "coated-equipment",
   "metadata": {},
   "outputs": [
    {
     "data": {
      "text/plain": [
       "-1"
      ]
     },
     "execution_count": 13,
     "metadata": {},
     "output_type": "execute_result"
    }
   ],
   "source": [
    "cv2.drawContours(image,[screenCnt],-1,(0,255,0),3)\n",
    "cv2.imshow(\"Image with detected License Plate\",image)\n",
    "cv2.waitKey(0)"
   ]
  },
  {
   "cell_type": "code",
   "execution_count": 14,
   "id": "amateur-keyboard",
   "metadata": {},
   "outputs": [
    {
     "name": "stdout",
     "output_type": "stream",
     "text": [
      "Number plate is: MH12DE1433\n",
      "\f",
      "\n"
     ]
    }
   ],
   "source": [
    "Cropped_loc = './7.png'\n",
    "cv2.imshow(\"cropped\",cv2.imread(Cropped_loc))\n",
    "plate = pytesseract.image_to_string(Cropped_loc,lang='eng')\n",
    "print(\"Number plate is:\",plate)\n",
    "cv2.waitKey(0)\n",
    "cv2.destroyAllWindows()"
   ]
  },
  {
   "cell_type": "code",
   "execution_count": null,
   "id": "necessary-flush",
   "metadata": {},
   "outputs": [],
   "source": []
  }
 ],
 "metadata": {
  "kernelspec": {
   "display_name": "Python 3",
   "language": "python",
   "name": "python3"
  },
  "language_info": {
   "codemirror_mode": {
    "name": "ipython",
    "version": 3
   },
   "file_extension": ".py",
   "mimetype": "text/x-python",
   "name": "python",
   "nbconvert_exporter": "python",
   "pygments_lexer": "ipython3",
   "version": "3.9.1"
  }
 },
 "nbformat": 4,
 "nbformat_minor": 5
}
